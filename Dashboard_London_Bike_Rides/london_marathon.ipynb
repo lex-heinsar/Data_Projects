{
 "cells": [
  {
   "cell_type": "markdown",
   "metadata": {},
   "source": [
    "# London bike sharing dataset\n",
    "In this project I look at the historical data for bike sharing in London (Disclamer: 'Powered by TfL Open Data')\n",
    "\n",
    "Data source: https://www.kaggle.com/datasets/hmavrodiev/london-bike-sharing-dataset/data\n",
    "\n",
    "The main goal of this exercise is to practice programming in Python and learn how to create visuals in Tableau. \n",
    "The code and visuals are recreated based on an online tutorial by Mo Chen: https://youtu.be/nl9eZl1IOKI?si=e5rKSHWQKvgNBekr\n",
    "To actually learn something, I tried to emerse myself in the problem data set, discover additional insights, and lastly tried some other visuals too.\n",
    "\n",
    "## There are three steps in this project\n",
    "1. Programmatically gather data\n",
    "2. Explore, assess and manipulate the data using the pandas library in Python\n",
    "3. Create impactful visualisation in Tableau\n",
    "\n",
    "### What is the structure of this data?\n",
    "In the table we have hourly dataset from 4 Jan 2015 to 3 Jan 2017. We are provided with the number of new bike shares per hour, and the weather conditions (temperature, temperature 'feels like', humidity, windspeed, etc.) at that hour and day.\n",
    "#### Metadata\n",
    "- \"timestamp\" - timestamp field for grouping the data\n",
    "- \"cnt\" - the count of a new bike shares\n",
    "- \"t1\" - real temperature in C\n",
    "- \"t2\" - temperature in C \"feels like\"\n",
    "- \"hum\" - humidity in percentage\n",
    "- \"wind_speed\" - wind speed in km/h\n",
    "- \"weather_code\" - category of the weather; here comes the description of this field:\n",
    "    - 1 = Clear ; mostly clear but have some values with haze/fog/patches of fog/ fog in vicinity \n",
    "    - 2 = scattered clouds / few clouds \n",
    "    - 3 = Broken clouds \n",
    "    - 4 = Cloudy \n",
    "    - 7 = Rain/ light Rain shower/ Light rain \n",
    "    - 10 = rain with thunderstorm \n",
    "    - 26 = snowfall \n",
    "    - 94 = Freezing Fog\n",
    "- \"is_holiday\" - boolean field - 1 holiday / 0 non holiday\n",
    "- \"is_weekend\" - boolean field - 1 if the day is weekend\n",
    "- \"season\" - category field meteorological seasons: \n",
    "    - 0-spring ; \n",
    "    - 1-summer; \n",
    "    - 2-fall; \n",
    "    - 3-winter.\n"
   ]
  },
  {
   "cell_type": "code",
   "execution_count": null,
   "metadata": {},
   "outputs": [],
   "source": [
    "# We need certain libraries to istall for this project.\n",
    "# You have to uncomment the pip install code below if you haven't installed these libraries yet\n",
    "# %pip install pandas\n",
    "# %pip install zipfile\n",
    "# %pip install kaggle\n",
    "\n",
    "# import pandas library\n",
    "import pandas as pd\n",
    "\n",
    "# import zipfile library (This library is used to extact the file downloaded from Kaggle)\n",
    "import zipfile\n",
    "\n",
    "# import kagglehub library (This library downloads the dataset from Kaggle)\n",
    "# for import to work, make sure you generated an API token first.\n",
    "# Then downloan the generated kaggle.json file and add it to the folder `home/username/.kaggle/`\n",
    "import kaggle\n"
   ]
  },
  {
   "cell_type": "code",
   "execution_count": null,
   "metadata": {},
   "outputs": [],
   "source": [
    "# download dataset fropm kaggle using the Kaggle API\n",
    "# to get the link to the dataset in kaggle go to Download button -> Choose Kaggle CLI\n",
    "# add `!` in front of it, so it can be run as a command line \n",
    "!kaggle datasets download hmavrodiev/london-bike-sharing-dataset"
   ]
  },
  {
   "cell_type": "code",
   "execution_count": null,
   "metadata": {},
   "outputs": [],
   "source": [
    "# extract the file from the downloaded zip file\n",
    "zipfile_name = 'london-bike-sharing-dataset.zip'\n",
    "with zipfile.ZipFile(zipfile_name, 'r') as file:\n",
    "    file.extractall()"
   ]
  },
  {
   "cell_type": "code",
   "execution_count": null,
   "metadata": {},
   "outputs": [],
   "source": [
    "# read the data in the csv file as a pandas DataFrame\n",
    "london_marathon = pd.read_csv(\"london_merged.csv\")"
   ]
  },
  {
   "cell_type": "code",
   "execution_count": null,
   "metadata": {},
   "outputs": [],
   "source": [
    "# explore the data\n",
    "london_marathon.info()\n",
    "\n",
    "# there are 10 columns with 17414 non-null entries in each column.\n",
    "london_marathon.shape"
   ]
  },
  {
   "cell_type": "code",
   "execution_count": null,
   "metadata": {},
   "outputs": [],
   "source": [
    "# we can have a look at our csv file (first and last 5 rows will be displayed)\n",
    "london_marathon"
   ]
  },
  {
   "cell_type": "code",
   "execution_count": null,
   "metadata": {},
   "outputs": [],
   "source": [
    "# count the unique value in the weather_code column\n",
    "# Once here, here is the key:\n",
    "# - \"weather_code\" - category of the weather; here comes the description of this field:\n",
    "#     - 1 = Clear ; mostly clear but have some values with haze/fog/patches of fog/ fog in vicinity \n",
    "#     - 2 = scattered clouds / few clouds \n",
    "#     - 3 = Broken clouds \n",
    "#     - 4 = Cloudy \n",
    "#     - 7 = Rain/ light Rain shower/ Light rain \n",
    "#     - 10 = rain with thunderstorm \n",
    "#     - 26 = snowfall \n",
    "#     - 94 = Freezing Fog\n",
    "\n",
    "london_marathon.weather_code.value_counts()"
   ]
  },
  {
   "cell_type": "code",
   "execution_count": null,
   "metadata": {},
   "outputs": [],
   "source": [
    "# coun the unique values in the season column\n",
    "# here comes the description again\n",
    "# - \"season\" - category field meteorological seasons: \n",
    "#     - 0-spring ; \n",
    "#     - 1-summer; \n",
    "#     - 2-fall; \n",
    "#     - 3-winter.\n",
    "london_marathon.season.value_counts()"
   ]
  },
  {
   "cell_type": "code",
   "execution_count": null,
   "metadata": {},
   "outputs": [],
   "source": [
    "# I want to rename the column headers to make them more readable. \n",
    "# First, I will assign new values to the columns I want to use.\n",
    "# For that I need to create a dictionary\n",
    "\n",
    "new_columns_dict = {\n",
    "    'timestamp': 'time',\n",
    "    'cnt': 'count',\n",
    "    't1': 'temp_real_C',\n",
    "    't2': 'temp_feels_like_C',\n",
    "    'hum': 'humidity_percent',\n",
    "    'wind_speed': 'wind_speed_kph',\n",
    "    'weather_code': 'weather',\n",
    "    'is_holiday': 'is_holiday',\n",
    "    'is_weekend': 'is_weekend',\n",
    "    'season': 'season'\n",
    "}\n",
    "\n",
    "# Now let's rename the columns to the specified column names\n",
    "london_marathon.rename(new_columns_dict, axis = 1, inplace = True)"
   ]
  },
  {
   "cell_type": "code",
   "execution_count": null,
   "metadata": {},
   "outputs": [],
   "source": [
    "# Change the humidity values in percentage % to values between 0 and 1\n",
    "london_marathon.humidity_percent = london_marathon.humidity_percent / 100"
   ]
  },
  {
   "cell_type": "code",
   "execution_count": null,
   "metadata": {},
   "outputs": [],
   "source": [
    "# Instead of using values in columns 'season' and 'weather', I want to assign those values their respective disctiptions\n",
    "# Create a dictionary with 'season' names and values (from 0 to 3)\n",
    "season_dict = {\n",
    "    '0.0': 'spring', \n",
    "    '1.0': 'summer',\n",
    "    '2.0': 'fall',\n",
    "    '3.0': 'winter'\n",
    "}\n",
    "\n",
    "# Data type in column season is now float. Change it to str.\n",
    "london_marathon.season = london_marathon.season.astype('str')\n",
    "# Now map the values from 0 to 3 to the names in our season_dict\n",
    "london_marathon.season = london_marathon.season.map(season_dict)"
   ]
  },
  {
   "cell_type": "code",
   "execution_count": null,
   "metadata": {},
   "outputs": [],
   "source": [
    "# Now do the same for the column 'weather'\n",
    "weather_dict = {\n",
    "    '1.0': 'Clear',\n",
    "    '2.0': 'Scattered Clouds',\n",
    "    '3.0': 'Broken Clouds',\n",
    "    '4.0': 'Cloudy',\n",
    "    '7.0': 'Rain',\n",
    "    '10.0': 'Rain with thunderstorm',\n",
    "    '26.0': 'Snowfall',\n",
    "    '94.0': 'Freezing Fog'\n",
    "}\n",
    "\n",
    "# Data type in column 'weather' is now float. Change it to str.\n",
    "london_marathon.weather = london_marathon.weather.astype('str')\n",
    "# Now map the values from our newly created weather_dict\n",
    "london_marathon.weather = london_marathon.weather.map(weather_dict)"
   ]
  },
  {
   "cell_type": "code",
   "execution_count": null,
   "metadata": {},
   "outputs": [],
   "source": [
    "# Check the table by printing the first 5 rows\n",
    "london_marathon.head()"
   ]
  },
  {
   "cell_type": "code",
   "execution_count": null,
   "metadata": {},
   "outputs": [],
   "source": [
    "# exporting our modified data frame into an Excel file, that will be later imported to Tableau\n",
    "london_marathon.to_excel('london_bike_sharing_final.xlsx', sheet_name='Raw Data')"
   ]
  }
 ],
 "metadata": {
  "kernelspec": {
   "display_name": "base",
   "language": "python",
   "name": "python3"
  },
  "language_info": {
   "codemirror_mode": {
    "name": "ipython",
    "version": 3
   },
   "file_extension": ".py",
   "mimetype": "text/x-python",
   "name": "python",
   "nbconvert_exporter": "python",
   "pygments_lexer": "ipython3",
   "version": "3.12.7"
  }
 },
 "nbformat": 4,
 "nbformat_minor": 2
}
